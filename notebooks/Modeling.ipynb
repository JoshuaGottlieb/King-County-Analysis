{
 "cells": [
  {
   "cell_type": "code",
   "execution_count": 1,
   "metadata": {},
   "outputs": [],
   "source": [
    "# Import libraries and data\n",
    "import numpy as np\n",
    "import pandas as pd\n",
    "import matplotlib.pyplot as plt\n",
    "import seaborn as sns\n",
    "import scipy.stats as stats\n",
    "import statsmodels.api as sm\n",
    "from sklearn.model_selection import train_test_split\n",
    "from sklearn.linear_model import LinearRegression\n",
    "from sklearn.preprocessing import PolynomialFeatures\n",
    "\n",
    "full_train = pd.read_parquet('../data/train/all_features_train.parquet')\n",
    "full_test = pd.read_parquet('../data/test/all_features_test.parquet')"
   ]
  },
  {
   "cell_type": "code",
   "execution_count": 2,
   "metadata": {},
   "outputs": [],
   "source": [
    "X_train, y_train = (full_train.drop('price', axis = 1), full_train.price)\n",
    "X_test, y_test = (full_test.drop('price', axis = 1), full_test.price)"
   ]
  },
  {
   "cell_type": "code",
   "execution_count": 8,
   "metadata": {},
   "outputs": [
    {
     "data": {
      "text/plain": [
       "Index(['address', 'date', 'bedrooms', 'bathrooms', 'sqft_living', 'sqft_lot',\n",
       "       'floors', 'waterfront', 'greenbelt', 'nuisance',\n",
       "       ...\n",
       "       'log(sqft_basement_plus_1)_x_grade_Low_Average',\n",
       "       'log(sqft_basement_plus_1)_x_grade_Luxury',\n",
       "       'log(sqft_basement_plus_1)_x_grade_Poor',\n",
       "       'log(sqft_basement_plus_1)_x_grade_Very_Good',\n",
       "       'log(sqft_basement_plus_1)_x_log(sqft_above_plus_0)',\n",
       "       'log(sqft_basement_plus_1)_x_log(sqft_lot_plus_0)',\n",
       "       'log(sqft_basement_plus_1)_x_log(sqft_living_plus_0)',\n",
       "       'log(sqft_basement_plus_1)_x_log(price_plus_0)',\n",
       "       'log(sqft_basement_plus_1)_x_log(sqft_patio_plus_1)',\n",
       "       'log(sqft_basement_plus_1)_x_log(sqft_garage_plus_1)'],\n",
       "      dtype='object', length=15880)"
      ]
     },
     "execution_count": 8,
     "metadata": {},
     "output_type": "execute_result"
    }
   ],
   "source": [
    "X_train.columns"
   ]
  },
  {
   "cell_type": "code",
   "execution_count": null,
   "metadata": {},
   "outputs": [],
   "source": [
    "full_train.corr().abs().price.nlargest(5)"
   ]
  },
  {
   "cell_type": "code",
   "execution_count": null,
   "metadata": {},
   "outputs": [],
   "source": [
    "simple = ['sqft_living']"
   ]
  },
  {
   "cell_type": "code",
   "execution_count": 3,
   "metadata": {},
   "outputs": [],
   "source": [
    "import time"
   ]
  },
  {
   "cell_type": "code",
   "execution_count": null,
   "metadata": {},
   "outputs": [],
   "source": [
    "%%time\n",
    "\n",
    "lr = LinearRegression()\n",
    "lr.fit(X_train.drop(['address', 'date'], axis = 1), y_train)\n",
    "lr.score(X_test.drop(['address', 'date'], axis = 1), y_test)"
   ]
  },
  {
   "cell_type": "code",
   "execution_count": null,
   "metadata": {},
   "outputs": [],
   "source": []
  }
 ],
 "metadata": {
  "kernelspec": {
   "display_name": "Python 3",
   "language": "python",
   "name": "python3"
  },
  "language_info": {
   "codemirror_mode": {
    "name": "ipython",
    "version": 3
   },
   "file_extension": ".py",
   "mimetype": "text/x-python",
   "name": "python",
   "nbconvert_exporter": "python",
   "pygments_lexer": "ipython3",
   "version": "3.8.5"
  }
 },
 "nbformat": 4,
 "nbformat_minor": 4
}
