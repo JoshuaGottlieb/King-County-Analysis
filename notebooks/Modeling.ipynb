{
 "cells": [
  {
   "cell_type": "code",
   "execution_count": 1,
   "metadata": {},
   "outputs": [],
   "source": [
    "# Import libraries and data\n",
    "import numpy as np\n",
    "import pandas as pd\n",
    "import matplotlib.pyplot as plt\n",
    "import seaborn as sns\n",
    "import scipy.stats as stats\n",
    "import statsmodels.api as sm\n",
    "from sklearn.model_selection import train_test_split\n",
    "from sklearn.model_selection import cross_val_score\n",
    "from sklearn.linear_model import LinearRegression\n",
    "from sklearn.preprocessing import PolynomialFeatures\n",
    "import itertools as itt\n",
    "import pickle as pk\n",
    "\n",
    "full_train = pd.read_parquet('../data/cleaned/all_features_train.parquet')\n",
    "full_test = pd.read_parquet('../data/cleaned/all_features_test.parquet')"
   ]
  },
  {
   "cell_type": "code",
   "execution_count": 2,
   "metadata": {},
   "outputs": [],
   "source": [
    "# Split test and train data sets into X, y_norm, and y_log\n",
    "X_train, y_train_norm, y_train_log = (full_train.drop(['price', 'log(price_plus_0)'], axis = 1),\n",
    "                                      full_train.price,\n",
    "                                      full_train['log(price_plus_0)'])\n",
    "X_test, y_test_norm, y_test_log = (full_test.drop(['price', 'log(price_plus_0)'], axis = 1),\n",
    "                                      full_test.price,\n",
    "                                      full_test['log(price_plus_0)'])"
   ]
  },
  {
   "cell_type": "code",
   "execution_count": 3,
   "metadata": {},
   "outputs": [
    {
     "data": {
      "text/plain": [
       "Index(['bedrooms', 'bathrooms', 'sqft_living', 'sqft_lot', 'floors',\n",
       "       'waterfront', 'greenbelt', 'nuisance', 'view', 'condition',\n",
       "       ...\n",
       "       'grade_Very_Good_x_zipcode_98168', 'grade_Very_Good_x_zipcode_98177',\n",
       "       'grade_Very_Good_x_zipcode_98178', 'grade_Very_Good_x_zipcode_98188',\n",
       "       'grade_Very_Good_x_zipcode_98198', 'grade_Very_Good_x_zipcode_98199',\n",
       "       'grade_Very_Good_x_zipcode_98224', 'grade_Very_Good_x_zipcode_98251',\n",
       "       'grade_Very_Good_x_zipcode_98288', 'grade_Very_Good_x_zipcode_98354'],\n",
       "      dtype='object', length=3264)"
      ]
     },
     "execution_count": 3,
     "metadata": {},
     "output_type": "execute_result"
    }
   ],
   "source": [
    "X_train.columns"
   ]
  },
  {
   "cell_type": "code",
   "execution_count": 4,
   "metadata": {},
   "outputs": [],
   "source": [
    "# Add columns of zeroes for each column present in X_train but not present in X_test\n",
    "# zipcode_98050 was not present in X_test and was duplicated through one-hot-encoding and engineered interactions\n",
    "# Since all of these columns represent dummy variables, this should not affect modeling whatsoever\n",
    "# X_test and X_train need to have the same shape for sklearn LinearRegression()\n",
    "def equalize_columns(df_1, df_2):\n",
    "    col_to_add_1 = [x for x in df_2.columns if x not in df_1.columns]\n",
    "    col_to_add_2 = [x for x in df_1.columns if x not in df_2.columns]\n",
    "    \n",
    "    if col_to_add_1 != []:\n",
    "        for col in col_to_add_1:\n",
    "            df_1[col] = 0\n",
    "            \n",
    "    if col_to_add_2 != []:\n",
    "        for col in col_to_add_2:\n",
    "            df_2[col] = 0\n",
    "            \n",
    "    df_1_col_order = df_1.columns.values.tolist()\n",
    "    \n",
    "    df_2.reindex(columns = df_1_col_order)\n",
    "    \n",
    "\n",
    "equalize_columns(X_train, X_test)"
   ]
  },
  {
   "cell_type": "code",
   "execution_count": 5,
   "metadata": {},
   "outputs": [],
   "source": [
    "# Runs a linear regression fitted on train data, then predicts on test data using a specified column set\n",
    "# Creates a pandas DataFrame containing the R^2 value of X_train, y_train\n",
    "# as well as the R^2 value obtained from predicting on X_test using coefficients from fitting on X_train\n",
    "# Also contains the fitted coefficient names/values/p-scores\n",
    "# Returns the y_prediction from predicting on X_test and the pandas DataFrame with tabular information\n",
    "def run_linear_regression(X_train, y_train, X_test, y_test, column_subset):\n",
    "    lr = LinearRegression()\n",
    "    lr.fit(X_train[column_subset], y_train)\n",
    "    lr_sm = sm.OLS(y_train, sm.add_constant(X_train[column_subset])).fit()\n",
    "    \n",
    "    regression_frame = pd.concat([pd.DataFrame(zip(['Test R^2'], [lr.score(X_test[column_subset], y_test)])),\n",
    "                                  pd.DataFrame(zip(['Train R^2'], [lr_sm.rsquared])),\n",
    "                                  lr_sm.params.reset_index().rename(columns = {'index': 0, 0: 1})])\n",
    "    regression_frame['p_values'] = [None, None] + lr_sm.pvalues.values.tolist()\n",
    "    regression_frame.columns = ['param', 'coeff', 'p_values']\n",
    "    \n",
    "    y_pred = lr.predict(X_test[column_subset])\n",
    "    \n",
    "    return y_pred, regression_frame"
   ]
  },
  {
   "cell_type": "code",
   "execution_count": 6,
   "metadata": {},
   "outputs": [],
   "source": [
    "# Checks if any string in a given list is a substring of given string\n",
    "def substring_from_list_in_string(list_one, test_string):\n",
    "    for string in list_one:\n",
    "        if string in test_string:\n",
    "            return True\n",
    "    return False"
   ]
  },
  {
   "cell_type": "code",
   "execution_count": 7,
   "metadata": {},
   "outputs": [],
   "source": [
    "# Cleans an array of symmetric interaction terms (a_x_b vs. b_x_a) and returns only unique features\n",
    "def get_unique_interactions(features):\n",
    "    features_unique = []\n",
    "    for feature in features:\n",
    "        if feature in features_unique:\n",
    "            continue\n",
    "        if '_x_' not in feature:\n",
    "            features_unique.append(feature)\n",
    "        else:\n",
    "            split_feature = feature.split('_x_')\n",
    "            split_feature.reverse()\n",
    "            rejoined_feature = '_x_'.join(split_feature)\n",
    "            if rejoined_feature in features_unique:\n",
    "                continue\n",
    "            else:\n",
    "                features_unique.append(feature)\n",
    "            \n",
    "    return features_unique"
   ]
  },
  {
   "cell_type": "code",
   "execution_count": 8,
   "metadata": {},
   "outputs": [],
   "source": [
    "# Defining base categories for further selection use\n",
    "binaries = ['waterfront', 'greenbelt', 'nuisance']\n",
    "ordinals = ['view', 'condition', 'grade']\n",
    "discrete = ['bedrooms', 'bathrooms', 'floors', 'yr_built']\n",
    "continuous = [x for x in X_train.columns if 'sqft' in x and '_x_' not in x and 'log' not in x]\n",
    "zipcodes = [x for x in X_train.columns if 'zip' in x and '_x_' not in x]\n",
    "log_continuous = [x for x in X_train.columns if 'log' in x and '_x_' not in x]\n",
    "ordinal_ohes = [x for x in X_train.columns if ('view' in x or 'condition' in x or 'grade' in x)\\\n",
    "                and '_' in x and '_x_' not in x]\n",
    "ohes = [x for x in X_train.columns if '_' in x and '_x_' not in x\\\n",
    "        and x not in set(itt.chain(binaries, ordinals, discrete, continuous,\\\n",
    "                                   log_continuous, zipcodes, ordinal_ohes))]\n",
    "interactions = [x for x in X_train.columns if '_x_' in x]"
   ]
  },
  {
   "cell_type": "code",
   "execution_count": 9,
   "metadata": {},
   "outputs": [
    {
     "name": "stdout",
     "output_type": "stream",
     "text": [
      "True\n",
      "True\n"
     ]
    }
   ],
   "source": [
    "# Testing that the shape and values of base categories matches all column values in X_train\n",
    "# In other words, the above lists partition all of X_train\n",
    "print(len(X_train.columns.values) == len(set(binaries + ordinals + discrete\\\n",
    "                                        + continuous + zipcodes + log_continuous\\\n",
    "                                        + ordinal_ohes + ohes + interactions)),\n",
    "      set(X_train.columns.values) == set(binaries + ordinals + discrete\\\n",
    "                                   + continuous + zipcodes + log_continuous\\\n",
    "                                   + ordinal_ohes + ohes + interactions),\n",
    "      sep = '\\n')"
   ]
  },
  {
   "cell_type": "code",
   "execution_count": 10,
   "metadata": {},
   "outputs": [
    {
     "data": {
      "text/html": [
       "<div>\n",
       "<style scoped>\n",
       "    .dataframe tbody tr th:only-of-type {\n",
       "        vertical-align: middle;\n",
       "    }\n",
       "\n",
       "    .dataframe tbody tr th {\n",
       "        vertical-align: top;\n",
       "    }\n",
       "\n",
       "    .dataframe thead th {\n",
       "        text-align: right;\n",
       "    }\n",
       "</style>\n",
       "<table border=\"1\" class=\"dataframe\">\n",
       "  <thead>\n",
       "    <tr style=\"text-align: right;\">\n",
       "      <th></th>\n",
       "      <th>param</th>\n",
       "      <th>coeff</th>\n",
       "      <th>p_values</th>\n",
       "    </tr>\n",
       "  </thead>\n",
       "  <tbody>\n",
       "    <tr>\n",
       "      <th>0</th>\n",
       "      <td>Test R^2</td>\n",
       "      <td>0.443392</td>\n",
       "      <td>NaN</td>\n",
       "    </tr>\n",
       "    <tr>\n",
       "      <th>0</th>\n",
       "      <td>Train R^2</td>\n",
       "      <td>0.420277</td>\n",
       "      <td>NaN</td>\n",
       "    </tr>\n",
       "  </tbody>\n",
       "</table>\n",
       "</div>"
      ],
      "text/plain": [
       "       param     coeff  p_values\n",
       "0   Test R^2  0.443392       NaN\n",
       "0  Train R^2  0.420277       NaN"
      ]
     },
     "execution_count": 10,
     "metadata": {},
     "output_type": "execute_result"
    }
   ],
   "source": [
    "# Simple linear regression on highest correlated column - sqft_living\n",
    "# Test R^2 of 0.4434 is not very strong\n",
    "simple_columns = ['sqft_living']\n",
    "y_pred, df = run_linear_regression(X_train, y_train_norm, X_test, y_test_norm, simple_columns)\n",
    "df.iloc[:2]"
   ]
  },
  {
   "cell_type": "code",
   "execution_count": 11,
   "metadata": {},
   "outputs": [],
   "source": [
    "# Create multi-linear regression baseline using all of the base categories\n",
    "# Except: continuous variables not log transformed and ordinal variables encoded ordinally instead of as ohe\n",
    "# Much better Test R^2: 0.7512\n",
    "baseline_columns = binaries + ordinals + discrete + continuous + zipcodes + ohes\n",
    "y_pred, df = run_linear_regression(X_train, y_train_norm, X_test, y_test_norm, baseline_columns)\n",
    "df.iloc[:2]\n",
    "\n",
    "# Write y_pred and df to pickle objects for use in visualizations\n",
    "with open('../data/cleaned/baseline_regression_y_pred.pickle', 'wb') as f:\n",
    "    pk.dump(y_pred, f)\n",
    "with open('../data/cleaned/baseline_regression_coeff_frame.pickle', 'wb') as f:\n",
    "    pk.dump(df, f)"
   ]
  },
  {
   "cell_type": "code",
   "execution_count": 12,
   "metadata": {
    "scrolled": true
   },
   "outputs": [
    {
     "data": {
      "text/html": [
       "<div>\n",
       "<style scoped>\n",
       "    .dataframe tbody tr th:only-of-type {\n",
       "        vertical-align: middle;\n",
       "    }\n",
       "\n",
       "    .dataframe tbody tr th {\n",
       "        vertical-align: top;\n",
       "    }\n",
       "\n",
       "    .dataframe thead th {\n",
       "        text-align: right;\n",
       "    }\n",
       "</style>\n",
       "<table border=\"1\" class=\"dataframe\">\n",
       "  <thead>\n",
       "    <tr style=\"text-align: right;\">\n",
       "      <th></th>\n",
       "      <th>param</th>\n",
       "      <th>coeff</th>\n",
       "      <th>p_values</th>\n",
       "    </tr>\n",
       "  </thead>\n",
       "  <tbody>\n",
       "    <tr>\n",
       "      <th>0</th>\n",
       "      <td>Test R^2</td>\n",
       "      <td>0.726913</td>\n",
       "      <td>NaN</td>\n",
       "    </tr>\n",
       "    <tr>\n",
       "      <th>0</th>\n",
       "      <td>Train R^2</td>\n",
       "      <td>0.719369</td>\n",
       "      <td>NaN</td>\n",
       "    </tr>\n",
       "  </tbody>\n",
       "</table>\n",
       "</div>"
      ],
      "text/plain": [
       "       param     coeff  p_values\n",
       "0   Test R^2  0.726913       NaN\n",
       "0  Train R^2  0.719369       NaN"
      ]
     },
     "execution_count": 12,
     "metadata": {},
     "output_type": "execute_result"
    }
   ],
   "source": [
    "# Test baseline regression using log-transformed y (price)\n",
    "# Test R^2 slightly worse, 0.7269\n",
    "y_pred, df = run_linear_regression(X_train, y_train_log, X_test, y_test_log, baseline_columns)\n",
    "df.iloc[:2]"
   ]
  },
  {
   "cell_type": "code",
   "execution_count": 13,
   "metadata": {},
   "outputs": [
    {
     "name": "stdout",
     "output_type": "stream",
     "text": [
      "       param     coeff  p_values\n",
      "0   Test R^2  0.729757       NaN\n",
      "0  Train R^2  0.736595       NaN\n",
      "\n",
      "       param     coeff  p_values\n",
      "0   Test R^2  0.728624       NaN\n",
      "0  Train R^2  0.720479       NaN\n"
     ]
    }
   ],
   "source": [
    "# Test variation of baseline regression using log-transformed continuous variables\n",
    "# Test R^2 against norm y: 0.7298, Test R^2 against log y: 0.7286, roughly equal but worse than baseline\n",
    "baseline_log_cont = binaries + ordinals + discrete + log_continuous + zipcodes + ohes\n",
    "y_pred_1, df_1 = run_linear_regression(X_train, y_train_norm, X_test, y_test_norm, baseline_log_cont)\n",
    "y_pred_2, df_2 = run_linear_regression(X_train, y_train_log, X_test, y_test_log, baseline_log_cont)\n",
    "\n",
    "print(df_1.iloc[:2], df_2.iloc[:2], sep = '\\n\\n')\n",
    "\n",
    "# Write y_pred_2 and df_2 to pickle objects for use in visualizations\n",
    "with open('../data/cleaned/log_continuous_y_pred_on_test.pickle', 'wb') as f:\n",
    "    pk.dump(y_pred_2, f)\n",
    "with open('../data/cleaned/log_continuous_coeff_frame.pickle', 'wb') as f:\n",
    "    pk.dump(df_2, f)"
   ]
  },
  {
   "cell_type": "code",
   "execution_count": 14,
   "metadata": {},
   "outputs": [
    {
     "name": "stdout",
     "output_type": "stream",
     "text": [
      "       param     coeff  p_values\n",
      "0   Test R^2  0.753132       NaN\n",
      "0  Train R^2  0.761993       NaN\n",
      "\n",
      "       param     coeff  p_values\n",
      "0   Test R^2  0.727410       NaN\n",
      "0  Train R^2  0.720576       NaN\n"
     ]
    }
   ],
   "source": [
    "# Test converting all ordinal columns except for grade to one-hot-encoded columns\n",
    "# Performance not greatly improved over baseline model\n",
    "ordinals_not_grade = [x for x in ordinals if 'grade' not in x]\n",
    "ordinals_ohe_not_grade = [x for x in ordinal_ohes if 'grade' not in x]\n",
    "X_col = list(set(baseline_columns) - set(ordinals_not_grade)) + ordinals_ohe_not_grade\n",
    "y_pred_1, df_1 = run_linear_regression(X_train, y_train_norm, X_test, y_test_norm, X_col)\n",
    "y_pred_2, df_2 = run_linear_regression(X_train, y_train_log, X_test, y_test_log, X_col)\n",
    "print(df_1.iloc[:2], df_2.iloc[:2], sep = '\\n\\n')"
   ]
  },
  {
   "cell_type": "code",
   "execution_count": 15,
   "metadata": {},
   "outputs": [
    {
     "name": "stdout",
     "output_type": "stream",
     "text": [
      "       param     coeff  p_values\n",
      "0   Test R^2  0.732101       NaN\n",
      "0  Train R^2  0.741420       NaN\n",
      "\n",
      "       param     coeff  p_values\n",
      "0   Test R^2  0.729217       NaN\n",
      "0  Train R^2  0.721780       NaN\n"
     ]
    }
   ],
   "source": [
    "# Same test as above but with log-transformed continuous variables\n",
    "# Worse performance than before\n",
    "X_col = list(set(baseline_log_cont) - set(ordinals_not_grade)) + ordinals_ohe_not_grade\n",
    "y_pred_1, df_1 = run_linear_regression(X_train, y_train_norm, X_test, y_test_norm, X_col)\n",
    "y_pred_2, df_2 = run_linear_regression(X_train, y_train_log, X_test, y_test_log, X_col)\n",
    "print(df_1.iloc[:2], df_2.iloc[:2], sep = '\\n\\n')"
   ]
  },
  {
   "cell_type": "code",
   "execution_count": 16,
   "metadata": {},
   "outputs": [
    {
     "name": "stdout",
     "output_type": "stream",
     "text": [
      "       param     coeff  p_values\n",
      "0   Test R^2  0.788337       NaN\n",
      "0  Train R^2  0.824724       NaN\n",
      "\n",
      "       param     coeff  p_values\n",
      "0   Test R^2  0.727210       NaN\n",
      "0  Train R^2  0.742562       NaN\n"
     ]
    }
   ],
   "source": [
    "# Zip code appeared to greatly affect all other independent variabels during EDA\n",
    "# Test using zip interaction columns between binary and continuous variables\n",
    "# Test R^2 against y norm: 0.7883, an improvement over the baseline model\n",
    "binaries_and_continuous = binaries + continuous\n",
    "zip_interactions_bc = [x for x in interactions if substring_from_list_in_string(binaries_and_continuous, x)\\\n",
    "                    and substring_from_list_in_string(zipcodes, x)\\\n",
    "                    and 'log' not in x]\n",
    "X_col = baseline_columns + zip_interactions_bc\n",
    "y_pred_1, df_1 = run_linear_regression(X_train, y_train_norm, X_test, y_test_norm, X_col)\n",
    "y_pred_2, df_2 = run_linear_regression(X_train, y_train_log, X_test, y_test_log, X_col)\n",
    "print(df_1.iloc[:2], df_2.iloc[:2], sep = '\\n\\n')"
   ]
  },
  {
   "cell_type": "code",
   "execution_count": 17,
   "metadata": {},
   "outputs": [
    {
     "name": "stdout",
     "output_type": "stream",
     "text": [
      "       param     coeff  p_values\n",
      "0   Test R^2  0.766700       NaN\n",
      "0  Train R^2  0.846814       NaN\n",
      "\n",
      "       param     coeff  p_values\n",
      "0   Test R^2  0.657968       NaN\n",
      "0  Train R^2  0.760583       NaN\n"
     ]
    }
   ],
   "source": [
    "# Next, test zip interactions with ordinal columns as well\n",
    "# Worse performance than just interactions between binary and continuous\n",
    "binaries_and_continuous_and_ordinal = binaries + continuous + ordinals\n",
    "zip_interactions_bco = [x for x in interactions if substring_from_list_in_string(binaries_and_continuous_and_ordinal, x)\\\n",
    "                    and substring_from_list_in_string(zipcodes, x)\\\n",
    "                    and 'log' not in x]\n",
    "X_col = baseline_columns + zip_interactions_bco\n",
    "y_pred_1, df_1 = run_linear_regression(X_train, y_train_norm, X_test, y_test_norm, X_col)\n",
    "y_pred_2, df_2 = run_linear_regression(X_train, y_train_log, X_test, y_test_log, X_col)\n",
    "print(df_1.iloc[:2], df_2.iloc[:2], sep = '\\n\\n')"
   ]
  },
  {
   "cell_type": "code",
   "execution_count": 18,
   "metadata": {},
   "outputs": [
    {
     "name": "stdout",
     "output_type": "stream",
     "text": [
      "       param     coeff  p_values\n",
      "0   Test R^2  0.793360       NaN\n",
      "0  Train R^2  0.833605       NaN\n",
      "\n",
      "       param     coeff  p_values\n",
      "0   Test R^2  0.714054       NaN\n",
      "0  Train R^2  0.757547       NaN\n"
     ]
    }
   ],
   "source": [
    "# Try looking at numerical interactions containing at least one continuous or discrete feature\n",
    "# This includes zipcode interactions involving continuous or discrete features\n",
    "# Have to use get_unique_interactions to remove symmetrically selected interaction features\n",
    "# Test R^2 on norm y: 0.7934, an improvement on all prior models!\n",
    "cont_and_disc = continuous + discrete\n",
    "numerical_interactions = [x for x in interactions if substring_from_list_in_string(cont_and_disc, x)\\\n",
    "                          and 'log' not in x]\n",
    "X_col = get_unique_interactions(baseline_columns + numerical_interactions)\n",
    "y_pred_1, df_1 = run_linear_regression(X_train, y_train_norm, X_test, y_test_norm, X_col)\n",
    "y_pred_2, df_2 = run_linear_regression(X_train, y_train_log, X_test, y_test_log, X_col)\n",
    "print(df_1.iloc[:2], df_2.iloc[:2], sep = '\\n\\n')"
   ]
  },
  {
   "cell_type": "code",
   "execution_count": 19,
   "metadata": {},
   "outputs": [
    {
     "name": "stdout",
     "output_type": "stream",
     "text": [
      "       param     coeff  p_values\n",
      "0   Test R^2  0.908041       NaN\n",
      "0  Train R^2  0.917488       NaN\n",
      "\n",
      "       param     coeff  p_values\n",
      "0   Test R^2  0.999895       NaN\n",
      "0  Train R^2  0.999932       NaN\n"
     ]
    }
   ],
   "source": [
    "# Try the same test but using log-transformed continuous features rather than regular continuous features\n",
    "# Test R^2 against norm y: 0.9080, but Test R^2 against log y: 0.9999, a huge improvement!\n",
    "log_cont_and_disc = log_continuous + discrete\n",
    "log_numerical_int = [x for x in interactions if substring_from_list_in_string(log_cont_and_disc, x)\\\n",
    "                     and not substring_from_list_in_string(ordinals + continuous, x)]\n",
    "X_col = get_unique_interactions(baseline_log_cont + log_numerical_int)\n",
    "y_pred_1, df_1 = run_linear_regression(X_train, y_train_norm, X_test, y_test_norm, X_col)\n",
    "y_pred_2, df_2 = run_linear_regression(X_train, y_train_log, X_test, y_test_log, X_col)\n",
    "print(df_1.iloc[:2], df_2.iloc[:2], sep = '\\n\\n')\n",
    "\n",
    "# Write y_pred_2 and df_2 to pickle objects for use in visualizations\n",
    "with open('../data/cleaned/log_continuous_with_interactions_y_pred_on_test.pickle', 'wb') as f:\n",
    "    pk.dump(y_pred_2, f)\n",
    "with open('../data/cleaned/log_continuous_with_interactions_coeff_frame.pickle', 'wb') as f:\n",
    "    pk.dump(df_2, f)"
   ]
  },
  {
   "cell_type": "code",
   "execution_count": 20,
   "metadata": {},
   "outputs": [
    {
     "data": {
      "image/png": "[encoded data removed]",
      "text/plain": [
       "<Figure size 1008x576 with 2 Axes>"
      ]
     },
     "metadata": {
      "needs_background": "light"
     },
     "output_type": "display_data"
    }
   ],
   "source": [
    "# Plotting log-continuous baseline + log_numerical_interactions predictions vs. test data\n",
    "fig, ax = plt.subplots(1, 2, figsize = (14, 8))\n",
    "\n",
    "sns.scatterplot(x = y_pred_2, y = y_test_log, ax = ax[0]);\n",
    "sns.scatterplot(x = np.exp(y_pred_2), y = np.exp(y_test_log), ax = ax[1]);\n",
    "ax[0].set_title('log prediction vs. log test-values');\n",
    "ax[1].set_title('prediction vs. test-values');\n",
    "ax[0].axline([0, 0], [1, 1], c = 'k');\n",
    "ax[1].axline([0, 0], [1, 1], c = 'k');"
   ]
  },
  {
   "cell_type": "code",
   "execution_count": 21,
   "metadata": {},
   "outputs": [],
   "source": [
    "# Bring in data that was cut for being upper outliers to test if model is actually working\n",
    "# This data has never been part of train data and so should there should be no concern of data leakage\n",
    "# Unless something went horribly wrong before train-test split\n",
    "removed_test = pd.read_parquet('../data/cleaned/removed_test_data.parquet')"
   ]
  },
  {
   "cell_type": "code",
   "execution_count": 22,
   "metadata": {},
   "outputs": [],
   "source": [
    "# Formatting data to conform to sklearn LinearRegression() requirements\n",
    "# Splitting into X- and y-data\n",
    "equalize_columns(X_train, removed_test)\n",
    "y_removed_test_norm = removed_test.price\n",
    "y_removed_test_log = removed_test['log(price_plus_0)']\n",
    "X_removed_test = removed_test.drop(['price', 'log(price_plus_0)'], axis = 1)"
   ]
  },
  {
   "cell_type": "code",
   "execution_count": 23,
   "metadata": {},
   "outputs": [
    {
     "data": {
      "text/html": [
       "<div>\n",
       "<style scoped>\n",
       "    .dataframe tbody tr th:only-of-type {\n",
       "        vertical-align: middle;\n",
       "    }\n",
       "\n",
       "    .dataframe tbody tr th {\n",
       "        vertical-align: top;\n",
       "    }\n",
       "\n",
       "    .dataframe thead th {\n",
       "        text-align: right;\n",
       "    }\n",
       "</style>\n",
       "<table border=\"1\" class=\"dataframe\">\n",
       "  <thead>\n",
       "    <tr style=\"text-align: right;\">\n",
       "      <th></th>\n",
       "      <th>param</th>\n",
       "      <th>coeff</th>\n",
       "      <th>p_values</th>\n",
       "    </tr>\n",
       "  </thead>\n",
       "  <tbody>\n",
       "    <tr>\n",
       "      <th>0</th>\n",
       "      <td>Test R^2</td>\n",
       "      <td>0.999804</td>\n",
       "      <td>NaN</td>\n",
       "    </tr>\n",
       "    <tr>\n",
       "      <th>0</th>\n",
       "      <td>Train R^2</td>\n",
       "      <td>0.999932</td>\n",
       "      <td>NaN</td>\n",
       "    </tr>\n",
       "  </tbody>\n",
       "</table>\n",
       "</div>"
      ],
      "text/plain": [
       "       param     coeff  p_values\n",
       "0   Test R^2  0.999804       NaN\n",
       "0  Train R^2  0.999932       NaN"
      ]
     },
     "execution_count": 23,
     "metadata": {},
     "output_type": "execute_result"
    }
   ],
   "source": [
    "# Running regression and showing R^2 scores\n",
    "# Prediction scores still look pretty good, Test R^2 on log y: 0.9998\n",
    "y_pred, df = run_linear_regression(X_train, y_train_log, X_removed_test, y_removed_test_log, X_col)\n",
    "df.iloc[:2]"
   ]
  },
  {
   "cell_type": "code",
   "execution_count": 24,
   "metadata": {},
   "outputs": [
    {
     "data": {
      "image/png": "[encoded data removed]",
      "text/plain": [
       "<Figure size 1008x576 with 2 Axes>"
      ]
     },
     "metadata": {
      "needs_background": "light"
     },
     "output_type": "display_data"
    }
   ],
   "source": [
    "# Plotting log-continuous baseline + log_numerical_interactions predictions vs. removed data\n",
    "# Model does appear to be performing well\n",
    "fig, ax = plt.subplots(1, 2, figsize = (14, 8))\n",
    "\n",
    "sns.scatterplot(x = y_pred, y = y_removed_test_log, ax = ax[0]);\n",
    "sns.scatterplot(x = np.exp(y_pred), y = np.exp(y_removed_test_log), ax = ax[1]);\n",
    "ax[0].set_title('log prediction vs. log test-values');\n",
    "ax[1].set_title('prediction vs. test-values');\n",
    "ax[0].axline([0, 0], [1, 1], c = 'k');\n",
    "ax[1].axline([0, 0], [1, 1], c = 'k');"
   ]
  },
  {
   "cell_type": "code",
   "execution_count": null,
   "metadata": {},
   "outputs": [],
   "source": []
  }
 ],
 "metadata": {
  "kernelspec": {
   "display_name": "Python 3",
   "language": "python",
   "name": "python3"
  },
  "language_info": {
   "codemirror_mode": {
    "name": "ipython",
    "version": 3
   },
   "file_extension": ".py",
   "mimetype": "text/x-python",
   "name": "python",
   "nbconvert_exporter": "python",
   "pygments_lexer": "ipython3",
   "version": "3.8.5"
  }
 },
 "nbformat": 4,
 "nbformat_minor": 4
}
